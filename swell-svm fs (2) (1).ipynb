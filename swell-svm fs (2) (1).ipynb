{
 "cells": [
  {
   "cell_type": "code",
   "execution_count": null,
   "id": "808dde8d",
   "metadata": {},
   "outputs": [],
   "source": [
    "import pandas as pd\n",
    "import numpy as np\n",
    "import seaborn as sns\n",
    "import matplotlib.pyplot as plt\n",
    "\n",
    "\n",
    "# In[4]:\n",
    "\n",
    "\n",
    "train_data = pd.read_csv(\"D:/Dataset/train.csv\")\n",
    "test_data = pd.read_csv(\"D:/Dataset/test.csv\")\n",
    "\n",
    "\n",
    "# In[5]:\n",
    "\n",
    "\n",
    "train_data.shape\n",
    "\n",
    "\n",
    "# In[6]:\n",
    "\n",
    "\n",
    "test_data.shape\n",
    "\n",
    "\n",
    "# In[7]:\n",
    "\n",
    "\n",
    "train_data.info()\n",
    "\n",
    "\n",
    "# In[8]:\n",
    "\n",
    "\n",
    "test_data.info()\n",
    "\n",
    "\n",
    "# In[9]:\n",
    "\n",
    "\n",
    "train_data.head()\n",
    "\n",
    "\n",
    "# In[10]:\n",
    "\n",
    "\n",
    "test_data.head()\n",
    "\n",
    "\n",
    "# In[11]:\n",
    "\n",
    "\n",
    "train_data.describe()\n",
    "\n",
    "\n",
    "# In[12]:\n",
    "\n",
    "\n",
    "test_data.describe()\n",
    "\n",
    "\n",
    "# In[13]:\n",
    "\n",
    "\n",
    "train_data[\"condition\"].value_counts()\n",
    "\n",
    "\n",
    "# In[14]:\n",
    "\n",
    "\n",
    "test_data[\"condition\"].value_counts()\n",
    "\n",
    "\n",
    "# In[15]:\n",
    "\n",
    "\n",
    "x_train=train_data.drop('condition',axis=1)\n",
    "y_train=train_data['condition']\n",
    "x_test=test_data.drop('condition',axis=1)\n",
    "y_test=test_data['condition']\n",
    "\n",
    "\n",
    "# In[16]:\n",
    "\n",
    "\n",
    "from sklearn.model_selection import train_test_split\n",
    "x_train,x_test,y_train,y_test=train_test_split(x_train,y_train,test_size=0.2,random_state=99)\n",
    "\n",
    "\n",
    "# In[17]:\n",
    "\n",
    "\n",
    "from sklearn.svm import SVC\n",
    "\n",
    "\n",
    "# In[18]:\n",
    "\n",
    "\n",
    "model=SVC(kernel=\"poly\",C=1.0,random_state=5)\n",
    "\n",
    "\n",
    "# In[19]:\n",
    "\n",
    "\n",
    "batch_size =50\n",
    "\n",
    "\n",
    "num_iterations = len(x_train) //batch_size\n",
    "\n",
    "\n",
    "for i in range(num_iterations):\n",
    "    # Get the current batch\n",
    "    start_idx = i * batch_size\n",
    "    end_idx = (i + 1) * batch_size\n",
    "    batch_x = x_train[start_idx:end_idx]\n",
    "    batch_y = y_train[start_idx:end_idx]\n",
    "\n",
    "\n",
    "# In[20]:\n",
    "\n",
    "\n",
    "model.fit(batch_x, batch_y)\n",
    "\n",
    "\n",
    "# In[21]:\n",
    "\n",
    "\n",
    "pred_train= model.predict(x_train)\n",
    "\n",
    "pred_test= model.predict(x_test)\n",
    "\n",
    "\n",
    "# In[22]:\n",
    "\n",
    "\n",
    "pred_test\n",
    "\n",
    "\n",
    "# In[23]:\n",
    "\n",
    "\n",
    "pred_train\n",
    "\n",
    "\n",
    "# In[24]:\n",
    "\n",
    "\n",
    "train_data.head()\n",
    "\n",
    "\n",
    "# In[25]:\n",
    "\n",
    "\n",
    "from sklearn.metrics import classification_report\n",
    "print(classification_report(y_test,pred_test))\n",
    "\n",
    "\n",
    "# In[26]:\n",
    "\n",
    "\n",
    "from sklearn.metrics import accuracy_score\n",
    "print(accuracy_score(y_test,pred_test))\n",
    "\n",
    "\n",
    "# In[ ]:\n",
    "\n",
    "\n",
    "\n",
    "\n"
   ]
  },
  {
   "cell_type": "code",
   "execution_count": null,
   "id": "c05f6cec",
   "metadata": {},
   "outputs": [],
   "source": [
    "import pandas as pd\n",
    "import numpy as np\n",
    "import matplotlib.pyplot as plt\n",
    "\n",
    "import seaborn as sns\n",
    "from sklearn import preprocessing\n",
    "from sklearn.metrics import classification_report\n",
    "from sklearn.metrics import accuracy_score\n",
    "from sklearn.svm import SVC"
   ]
  },
  {
   "cell_type": "code",
   "execution_count": null,
   "id": "ce58c3ba",
   "metadata": {},
   "outputs": [],
   "source": [
    "train = pd.read_csv(\"D:/Dataset/train.csv\")\n",
    "test = pd.read_csv(\"D:/Dataset/test.csv\")"
   ]
  },
  {
   "cell_type": "code",
   "execution_count": null,
   "id": "43a6a73b",
   "metadata": {},
   "outputs": [],
   "source": [
    "train"
   ]
  },
  {
   "cell_type": "code",
   "execution_count": null,
   "id": "21ebe890",
   "metadata": {},
   "outputs": [],
   "source": [
    "test"
   ]
  },
  {
   "cell_type": "code",
   "execution_count": null,
   "id": "a187ae86",
   "metadata": {},
   "outputs": [],
   "source": [
    "train['condition'].unique()"
   ]
  },
  {
   "cell_type": "code",
   "execution_count": null,
   "id": "94463c55",
   "metadata": {},
   "outputs": [],
   "source": [
    "conditions = dict(train['condition'].value_counts())\n",
    "labels = list(conditions.keys())\n",
    "counts = list(conditions.values())\n",
    "plt.bar(labels,counts, color ='green',\n",
    "        width = 0.4)"
   ]
  },
  {
   "cell_type": "code",
   "execution_count": null,
   "id": "0cc4cf96",
   "metadata": {},
   "outputs": [],
   "source": [
    "le = preprocessing.LabelEncoder()\n",
    "le.fit(train['condition'])\n",
    "train['condition'] = le.transform(train['condition'])\n",
    "test['condition'] = le.transform(test['condition'])"
   ]
  },
  {
   "cell_type": "code",
   "execution_count": null,
   "id": "31e51d66",
   "metadata": {},
   "outputs": [],
   "source": [
    "plt.figure(figsize=(12,10))\n",
    "corr = train.corr()\n",
    "sns.heatmap(corr, annot=False, cmap=plt.cm.Reds)\n",
    "plt.show()"
   ]
  },
  {
   "cell_type": "code",
   "execution_count": null,
   "id": "c18d4026",
   "metadata": {},
   "outputs": [],
   "source": [
    "def feature_selection(correlation,threshold):\n",
    "    selected_features = []\n",
    "    for i in range(corr.shape[0]):\n",
    "      if corr.iloc[i,35] > threshold:\n",
    "        selected_features.append(train.iloc[:,i])\n",
    "    return pd.DataFrame(selected_features).T"
   ]
  },
  {
   "cell_type": "code",
   "execution_count": null,
   "id": "0158ffac",
   "metadata": {},
   "outputs": [],
   "source": [
    "CORRELATION_THRESHOLD = 0.1\n",
    "reduced_train = feature_selection(corr,CORRELATION_THRESHOLD)"
   ]
  },
  {
   "cell_type": "code",
   "execution_count": null,
   "id": "d882e35f",
   "metadata": {},
   "outputs": [],
   "source": [
    "reduced_train"
   ]
  },
  {
   "cell_type": "code",
   "execution_count": null,
   "id": "cb96960e",
   "metadata": {},
   "outputs": [],
   "source": [
    "fig, axarr = plt.subplots(2, 2, figsize=(15, 9))\n",
    "reduced_train['MEAN_RR'][:70].plot(ax=axarr[0][0])\n",
    "reduced_train['MEDIAN_RR'][:70].plot(ax=axarr[1][0])\n",
    "reduced_train['MEDIAN_REL_RR'][:70].plot(ax=axarr[0][1])\n",
    "reduced_train['SDRR_RMSSD_REL_RR'][:70].plot(ax=axarr[1][1])\n",
    "axarr[0][0].set_title(\"Mean_RR\")\n",
    "axarr[0][1].set_title(\"Median_RR\")\n",
    "axarr[1][0].set_title(\"Median_Rel_RR\")\n",
    "axarr[1][1].set_title(\"SDRR_RMSSD_REL_RR\")\n",
    "plt.subplots_adjust(hspace=.3)"
   ]
  },
  {
   "cell_type": "code",
   "execution_count": null,
   "id": "83a5627d",
   "metadata": {},
   "outputs": [],
   "source": [
    "reduced_train[['MEAN_RR','MEDIAN_RR']][:70].plot()"
   ]
  },
  {
   "cell_type": "code",
   "execution_count": null,
   "id": "c8c69482",
   "metadata": {},
   "outputs": [],
   "source": [
    "X_train = reduced_train.iloc[:,:-1]\n",
    "y_train = reduced_train.iloc[:,-1]"
   ]
  },
  {
   "cell_type": "code",
   "execution_count": null,
   "id": "ee0cadfe",
   "metadata": {},
   "outputs": [],
   "source": [
    "X_test = test[X_train.columns]\n",
    "y_test = test['condition']"
   ]
  },
  {
   "cell_type": "code",
   "execution_count": null,
   "id": "a2a39747",
   "metadata": {},
   "outputs": [],
   "source": [
    "X_train.head()"
   ]
  },
  {
   "cell_type": "code",
   "execution_count": null,
   "id": "a377f8cc",
   "metadata": {},
   "outputs": [],
   "source": [
    "X_test.head()"
   ]
  },
  {
   "cell_type": "code",
   "execution_count": null,
   "id": "e567d140",
   "metadata": {},
   "outputs": [],
   "source": [
    "import matplotlib.pyplot as plt\n",
    "from sklearn.datasets import make_classification\n",
    "from sklearn.metrics import confusion_matrix, ConfusionMatrixDisplay\n",
    "from sklearn.model_selection import train_test_split\n",
    "from sklearn.svm import SVC\n",
    "X, y = make_classification(random_state=0)\n",
    "# X_train, X_test, y_train, y_test = train_test_split(X, y,random_state=0)\n",
    "# clf = SVC(random_state=0)\n",
    "# clf.fit(X_train, y_train)\n",
    "# SVC(random_state=0)\n",
    "# predictions = clf.predict(X_test)\n",
    "# cm = confusion_matrix(y_test, predictions, labels=clf.classes_)\n",
    "# disp = ConfusionMatrixDisplay(confusion_matrix=cm,\n",
    "#                               display_labels=clf.classes_)\n",
    "# disp.plot()\n",
    "\n",
    "# plt.show()\n"
   ]
  },
  {
   "cell_type": "code",
   "execution_count": null,
   "id": "cdb22e91",
   "metadata": {},
   "outputs": [],
   "source": [
    "y_pred = model.predict(X_test)"
   ]
  },
  {
   "cell_type": "code",
   "execution_count": null,
   "id": "b34c220c",
   "metadata": {},
   "outputs": [],
   "source": []
  },
  {
   "cell_type": "code",
   "execution_count": null,
   "id": "9484b754",
   "metadata": {},
   "outputs": [],
   "source": []
  },
  {
   "cell_type": "code",
   "execution_count": null,
   "id": "ee28cea6",
   "metadata": {},
   "outputs": [],
   "source": []
  },
  {
   "cell_type": "code",
   "execution_count": null,
   "id": "50608ea6",
   "metadata": {},
   "outputs": [],
   "source": []
  }
 ],
 "metadata": {
  "kernelspec": {
   "display_name": "Python 3 (ipykernel)",
   "language": "python",
   "name": "python3"
  },
  "language_info": {
   "codemirror_mode": {
    "name": "ipython",
    "version": 3
   },
   "file_extension": ".py",
   "mimetype": "text/x-python",
   "name": "python",
   "nbconvert_exporter": "python",
   "pygments_lexer": "ipython3",
   "version": "3.11.5"
  }
 },
 "nbformat": 4,
 "nbformat_minor": 5
}
